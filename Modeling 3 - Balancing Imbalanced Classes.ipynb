{
 "cells": [
  {
   "cell_type": "markdown",
   "metadata": {},
   "source": [
    "# Balancing Imbalanced Classes"
   ]
  },
  {
   "cell_type": "markdown",
   "metadata": {},
   "source": [
    "Despite tuning random forests previously, the model is still very inaccurate at identifying functional water points that require repair, due to the low number of data records for this class. Here, we will use upsampling to balance classes to generate a random forest model with better recall and precision."
   ]
  },
  {
   "cell_type": "code",
   "execution_count": 70,
   "metadata": {
    "collapsed": true
   },
   "outputs": [],
   "source": [
    "import pandas as pd\n",
    "import matplotlib.pyplot as plt\n",
    "%matplotlib inline\n",
    "import numpy as np\n",
    "import os\n",
    "import math\n",
    "import re\n",
    "from scipy import stats\n",
    "from sklearn import preprocessing\n",
    "\n",
    "import itertools\n",
    "from sklearn.model_selection import train_test_split\n",
    "from sklearn.ensemble import RandomForestClassifier\n",
    "from sklearn.metrics import accuracy_score\n",
    "from sklearn.metrics import confusion_matrix\n",
    "from sklearn.metrics import precision_score\n",
    "from sklearn.metrics import recall_score\n",
    "from sklearn.metrics import f1_score\n",
    "from sklearn.utils import resample\n",
    "from sklearn.model_selection import GridSearchCV\n",
    "from sklearn.model_selection import cross_val_score\n"
   ]
  },
  {
   "cell_type": "code",
   "execution_count": 2,
   "metadata": {
    "collapsed": true
   },
   "outputs": [],
   "source": [
    "# Code taken from sklearn: http://scikit-learn.org/stable/auto_examples/model_selection/plot_confusion_matrix.html\n",
    "def plot_confusion_matrix(cm, classes,\n",
    "                          normalize=False,\n",
    "                          title='Confusion matrix',\n",
    "                          cmap=plt.cm.Blues):\n",
    "    \"\"\"\n",
    "    This function prints and plots the confusion matrix.\n",
    "    Normalization can be applied by setting `normalize=True`.\n",
    "    \"\"\"\n",
    "    if normalize:\n",
    "        cm = cm.astype('float') / cm.sum(axis=1)[:, np.newaxis]\n",
    "        print(\"Normalized confusion matrix\")\n",
    "    else:\n",
    "        print('Confusion matrix, without normalization')\n",
    "\n",
    "    print(cm)\n",
    "\n",
    "    plt.imshow(cm, interpolation='nearest', cmap=cmap)\n",
    "    plt.title(title)\n",
    "    plt.colorbar()\n",
    "    tick_marks = np.arange(len(classes))\n",
    "    plt.xticks(tick_marks, classes, rotation=45)\n",
    "    plt.yticks(tick_marks, classes)\n",
    "\n",
    "    fmt = '.2f' if normalize else 'd'\n",
    "    thresh = cm.max() / 2.\n",
    "    for i, j in itertools.product(range(cm.shape[0]), range(cm.shape[1])):\n",
    "        plt.text(j, i, format(cm[i, j], fmt),\n",
    "                 horizontalalignment=\"center\",\n",
    "                 color=\"white\" if cm[i, j] > thresh else \"black\")\n",
    "\n",
    "    plt.tight_layout()\n",
    "    plt.ylabel('True label')\n",
    "    plt.xlabel('Predicted label')"
   ]
  },
  {
   "cell_type": "code",
   "execution_count": 46,
   "metadata": {
    "collapsed": true
   },
   "outputs": [],
   "source": [
    "data = pd.read_csv('model_data1.csv')\n"
   ]
  },
  {
   "cell_type": "code",
   "execution_count": 49,
   "metadata": {
    "collapsed": true
   },
   "outputs": [],
   "source": [
    "# Prepare original data\n",
    "\n",
    "# Isolate Dependent Variable\n",
    "well = data['status_group']\n",
    "# Isolate Independent Variable\n",
    "predictors = data.drop(['status_group', 'id', 'Unnamed: 0', 'Unnamed: 0.1', 'amount_tsh', 'gps_height'], axis=1)\n",
    "# Split into training and test sets\n",
    "x_train, x_test, y_train, y_test = train_test_split(predictors, well, test_size = 0.25, random_state = 0)"
   ]
  },
  {
   "cell_type": "code",
   "execution_count": 50,
   "metadata": {},
   "outputs": [
    {
     "data": {
      "text/plain": [
       "['longitude',\n",
       " 'latitude',\n",
       " 'population',\n",
       " 'amount_tsh_rob',\n",
       " 'gps_height_rob',\n",
       " 'basin_Internal',\n",
       " 'basin_Lake Nyasa',\n",
       " 'basin_Lake Rukwa',\n",
       " 'basin_Lake Tanganyika',\n",
       " 'basin_Lake Victoria',\n",
       " 'basin_Pangani',\n",
       " 'basin_Rufiji',\n",
       " 'basin_Ruvuma / Southern Coast',\n",
       " 'basin_Wami / Ruvu',\n",
       " 'extraction_type_class_gravity',\n",
       " 'extraction_type_class_handpump',\n",
       " 'extraction_type_class_motorpump',\n",
       " 'extraction_type_class_other',\n",
       " 'extraction_type_class_rope pump',\n",
       " 'extraction_type_class_submersible',\n",
       " 'extraction_type_class_wind-powered',\n",
       " 'funder_type_Nonprofit/NGO/Foundation',\n",
       " 'funder_type_Other Govt/Govt Body',\n",
       " 'funder_type_Private Company',\n",
       " 'funder_type_Religious Organization',\n",
       " 'funder_type_Tanzania Government',\n",
       " 'funder_type_Tanzania Organization',\n",
       " 'funder_type_other',\n",
       " 'installer_final_ACRA',\n",
       " 'installer_final_ADRA',\n",
       " 'installer_final_Amref',\n",
       " 'installer_final_CES',\n",
       " 'installer_final_DA',\n",
       " 'installer_final_DANIDA',\n",
       " 'installer_final_DMDD',\n",
       " 'installer_final_DWE',\n",
       " 'installer_final_District or Community',\n",
       " 'installer_final_Fini Water',\n",
       " 'installer_final_Hesawa',\n",
       " 'installer_final_ISF',\n",
       " 'installer_final_Jica',\n",
       " 'installer_final_KKKT',\n",
       " 'installer_final_Kili Water',\n",
       " 'installer_final_LGA',\n",
       " 'installer_final_Nonprofit/NGO/Foundation',\n",
       " 'installer_final_Norad',\n",
       " 'installer_final_Other Govt/Govt Body',\n",
       " 'installer_final_Oxfam',\n",
       " 'installer_final_Private Company',\n",
       " 'installer_final_RWE',\n",
       " 'installer_final_Religious Organization',\n",
       " 'installer_final_SEMA',\n",
       " 'installer_final_TASAF',\n",
       " 'installer_final_TCRS',\n",
       " 'installer_final_TWESA',\n",
       " 'installer_final_Tanzania Government',\n",
       " 'installer_final_UNICEF',\n",
       " 'installer_final_WEDECO',\n",
       " 'installer_final_WU',\n",
       " 'installer_final_World Bank',\n",
       " 'installer_final_World Vision',\n",
       " 'installer_final_other',\n",
       " 'management_company',\n",
       " 'management_other',\n",
       " 'management_other - school',\n",
       " 'management_parastatal',\n",
       " 'management_private operator',\n",
       " 'management_trust',\n",
       " 'management_vwc',\n",
       " 'management_water authority',\n",
       " 'management_water board',\n",
       " 'management_wua',\n",
       " 'management_wug',\n",
       " 'management_group_commercial',\n",
       " 'management_group_other',\n",
       " 'management_group_parastatal',\n",
       " 'management_group_user-group',\n",
       " 'month-year_2011-11',\n",
       " 'month-year_2011-12',\n",
       " 'month-year_2011-2',\n",
       " 'month-year_2011-3',\n",
       " 'month-year_2011-4',\n",
       " 'month-year_2011-7',\n",
       " 'month-year_2011-8',\n",
       " 'month-year_2012-10',\n",
       " 'month-year_2012-11',\n",
       " 'month-year_2012-12',\n",
       " 'month-year_2013-1',\n",
       " 'month-year_2013-10',\n",
       " 'month-year_2013-11',\n",
       " 'month-year_2013-12',\n",
       " 'month-year_2013-2',\n",
       " 'month-year_2013-3',\n",
       " 'month-year_2013-4',\n",
       " 'month-year_2013-5',\n",
       " 'month-year_2013-6',\n",
       " 'month-year_2013-7',\n",
       " 'month-year_2013-8',\n",
       " 'month-year_2013-9',\n",
       " 'month-year_other',\n",
       " 'payment_type_annually',\n",
       " 'payment_type_monthly',\n",
       " 'payment_type_never pay',\n",
       " 'payment_type_on failure',\n",
       " 'payment_type_other',\n",
       " 'payment_type_per bucket',\n",
       " 'permit_False',\n",
       " 'permit_True',\n",
       " 'public_meeting_False',\n",
       " 'public_meeting_True',\n",
       " 'region_Arusha',\n",
       " 'region_Dar es Salaam',\n",
       " 'region_Dodoma',\n",
       " 'region_Iringa',\n",
       " 'region_Kagera',\n",
       " 'region_Kigoma',\n",
       " 'region_Kilimanjaro',\n",
       " 'region_Lindi',\n",
       " 'region_Manyara',\n",
       " 'region_Mara',\n",
       " 'region_Mbeya',\n",
       " 'region_Morogoro',\n",
       " 'region_Mtwara',\n",
       " 'region_Mwanza',\n",
       " 'region_Pwani',\n",
       " 'region_Rukwa',\n",
       " 'region_Ruvuma',\n",
       " 'region_Shinyanga',\n",
       " 'region_Singida',\n",
       " 'region_Tabora',\n",
       " 'region_Tanga',\n",
       " 'source_class_groundwater',\n",
       " 'source_class_surface',\n",
       " 'source_class_unknown',\n",
       " 'source_type_borehole',\n",
       " 'source_type_dam',\n",
       " 'source_type_other',\n",
       " 'source_type_rainwater harvesting',\n",
       " 'source_type_river/lake',\n",
       " 'source_type_shallow well',\n",
       " 'source_type_spring',\n",
       " 'waterpoint_type_cattle trough',\n",
       " 'waterpoint_type_communal standpipe',\n",
       " 'waterpoint_type_communal standpipe multiple',\n",
       " 'waterpoint_type_hand pump',\n",
       " 'waterpoint_type_improved spring',\n",
       " 'waterpoint_type_other',\n",
       " 'year_2011',\n",
       " 'year_2012',\n",
       " 'year_2013',\n",
       " 'year_other',\n",
       " 'quality_group_colored',\n",
       " 'quality_group_fluoride',\n",
       " 'quality_group_good',\n",
       " 'quality_group_milky',\n",
       " 'quality_group_salty',\n",
       " 'quality_group_unknown',\n",
       " 'quantity_dry',\n",
       " 'quantity_enough',\n",
       " 'quantity_insufficient',\n",
       " 'quantity_seasonal',\n",
       " 'quantity_unknown']"
      ]
     },
     "execution_count": 50,
     "metadata": {},
     "output_type": "execute_result"
    }
   ],
   "source": [
    "predictors.columns.tolist()"
   ]
  },
  {
   "cell_type": "markdown",
   "metadata": {},
   "source": [
    "Upsample Minority Classes:"
   ]
  },
  {
   "cell_type": "code",
   "execution_count": 23,
   "metadata": {
    "collapsed": true
   },
   "outputs": [],
   "source": [
    "data2 = pd.read_csv('water4_scaled.csv')\n",
    "\n",
    "# Divide the data into its respective classes\n",
    "data_functional = data2[data2['status_group']=='functional']\n",
    "data_repair = data2[data2['status_group']=='functional needs repair']\n",
    "data_nonfunc = data2[data2['status_group']=='non functional']"
   ]
  },
  {
   "cell_type": "code",
   "execution_count": 24,
   "metadata": {
    "collapsed": true
   },
   "outputs": [],
   "source": [
    "# Upsample both non functional and water points needing repair\n",
    "data_repair_upsample = resample(data_repair, replace = True, \n",
    "                                n_samples=data_functional.shape[0], \n",
    "                                random_state=123)\n",
    "\n",
    "data_nonfunc_upsample = resample(data_nonfunc, replace = True, \n",
    "                                n_samples=data_functional.shape[0], \n",
    "                                random_state=123)"
   ]
  },
  {
   "cell_type": "code",
   "execution_count": 25,
   "metadata": {
    "collapsed": true
   },
   "outputs": [],
   "source": [
    "data_sampled = pd.concat([data_functional, data_repair_upsample, data_nonfunc_upsample])"
   ]
  },
  {
   "cell_type": "code",
   "execution_count": 26,
   "metadata": {},
   "outputs": [
    {
     "data": {
      "text/plain": [
       "functional                 32259\n",
       "functional needs repair    32259\n",
       "non functional             32259\n",
       "Name: status_group, dtype: int64"
      ]
     },
     "execution_count": 26,
     "metadata": {},
     "output_type": "execute_result"
    }
   ],
   "source": [
    "# Check distribution of data\n",
    "data_sampled['status_group'].value_counts()"
   ]
  },
  {
   "cell_type": "code",
   "execution_count": 27,
   "metadata": {
    "collapsed": true
   },
   "outputs": [],
   "source": [
    "data2 = data_sampled.drop(['wpt_name', 'subvillage', 'region_code', 'district_code', 'recorded_by', 'scheme_management',\n",
    "                  'scheme_name', 'extraction_type', 'payment', 'water_quality', 'quantity_group', 'source', \n",
    "                  'waterpoint_type_group', 'installer_group', 'installer', 'funder',\n",
    "                  'date_recorded', 'amount_tsh', 'gps_height','extraction_type_group', \n",
    "                  'construction_year', 'num_private', 'lga', 'ward'], axis=1)\n",
    "\n",
    "data2 = data2[data2['permit'].isnull()==False]\n",
    "data2 = data2[data2['public_meeting'].isnull()==False]"
   ]
  },
  {
   "cell_type": "code",
   "execution_count": 28,
   "metadata": {},
   "outputs": [
    {
     "data": {
      "text/plain": [
       "Index(['Unnamed: 0', 'Unnamed: 0.1', 'id', 'longitude', 'latitude', 'basin',\n",
       "       'region', 'population', 'public_meeting', 'permit',\n",
       "       'extraction_type_class', 'management', 'management_group',\n",
       "       'payment_type', 'quality_group', 'quantity', 'source_type',\n",
       "       'source_class', 'waterpoint_type', 'status_group', 'funder_type',\n",
       "       'installer_final', 'year', 'month-year', 'amount_tsh_rob',\n",
       "       'gps_height_rob'],\n",
       "      dtype='object')"
      ]
     },
     "execution_count": 28,
     "metadata": {},
     "output_type": "execute_result"
    }
   ],
   "source": [
    "data2.columns"
   ]
  },
  {
   "cell_type": "code",
   "execution_count": 29,
   "metadata": {
    "collapsed": true
   },
   "outputs": [],
   "source": [
    "data2 = pd.get_dummies(data2, columns=['basin', 'extraction_type_class', 'funder_type', 'installer_final', \n",
    "                                       'management', 'management_group', 'month-year', 'payment_type',\n",
    "                                       'permit', 'public_meeting', 'region', 'source_class', 'source_type', \n",
    "                                       'waterpoint_type', 'year', 'quality_group', 'quantity']) "
   ]
  },
  {
   "cell_type": "code",
   "execution_count": 39,
   "metadata": {
    "collapsed": true
   },
   "outputs": [],
   "source": [
    "well2 = data2['status_group']"
   ]
  },
  {
   "cell_type": "code",
   "execution_count": 38,
   "metadata": {
    "collapsed": true
   },
   "outputs": [],
   "source": [
    "predictors2 = data2.drop(['status_group', 'id', 'Unnamed: 0', 'Unnamed: 0.1'], axis=1)"
   ]
  },
  {
   "cell_type": "code",
   "execution_count": 40,
   "metadata": {
    "collapsed": true
   },
   "outputs": [],
   "source": [
    "# Split into training and test sets\n",
    "x_train2, x_test2, y_train2, y_test2 = train_test_split(predictors2, well2, test_size = 0.25, random_state = 0)"
   ]
  },
  {
   "cell_type": "code",
   "execution_count": 41,
   "metadata": {
    "collapsed": true
   },
   "outputs": [],
   "source": [
    "# Fit Random Forest\n",
    "clf10 = RandomForestClassifier(max_depth=40, max_features=30, min_samples_leaf=2, n_estimators=13) # max features set to sqrt(164 features)\n",
    "clf10 = clf10.fit(x_train2, y_train2)\n"
   ]
  },
  {
   "cell_type": "code",
   "execution_count": 51,
   "metadata": {
    "collapsed": true
   },
   "outputs": [],
   "source": [
    "# How well does the random forest built with upsampled data predict outcomes for the original test sample that was not upsampled?\n",
    "y_pred10b = clf10.predict(x_test)"
   ]
  },
  {
   "cell_type": "code",
   "execution_count": 52,
   "metadata": {},
   "outputs": [
    {
     "data": {
      "text/plain": [
       "0.8922855526110649"
      ]
     },
     "execution_count": 52,
     "metadata": {},
     "output_type": "execute_result"
    }
   ],
   "source": [
    "f1_score(y_test, y_pred10b, average='weighted')"
   ]
  },
  {
   "cell_type": "code",
   "execution_count": 53,
   "metadata": {},
   "outputs": [
    {
     "name": "stdout",
     "output_type": "stream",
     "text": [
      "Normalized confusion matrix\n",
      "[[ 0.89047488  0.05888004  0.05064507]\n",
      " [ 0.00505561  0.99292214  0.00202224]\n",
      " [ 0.10265557  0.02952834  0.86781609]]\n"
     ]
    },
    {
     "data": {
      "image/png": "[encoded data removed]",
      "text/plain": [
       "<matplotlib.figure.Figure at 0x175f3a21f28>"
      ]
     },
     "metadata": {},
     "output_type": "display_data"
    }
   ],
   "source": [
    "plt.figure()\n",
    "plot_confusion_matrix(confusion_matrix(y_test, y_pred10b), \n",
    "                      classes=['functional', 'functional needs repair', 'non functional'],\n",
    "                      normalize=True,\n",
    "                      title = 'Confusion Matrix')"
   ]
  },
  {
   "cell_type": "markdown",
   "metadata": {},
   "source": [
    "Upsampling has greatly increased recall for \"non functional\" and \"functional needs repair\" water points. However, the 99% recall rate for \"functional needs repair\" suggests overfitting. "
   ]
  },
  {
   "cell_type": "code",
   "execution_count": 63,
   "metadata": {},
   "outputs": [],
   "source": [
    "# Try cross validation\n",
    "\n",
    "from sklearn.metrics.scorer import make_scorer\n",
    "# Make scorer\n",
    "f1_score_obj = make_scorer(f1_score, average='weighted')"
   ]
  },
  {
   "cell_type": "code",
   "execution_count": 66,
   "metadata": {},
   "outputs": [],
   "source": [
    "scores = cross_val_score(clf10, x_train2, y_train2, cv=10)"
   ]
  },
  {
   "cell_type": "code",
   "execution_count": 68,
   "metadata": {},
   "outputs": [
    {
     "data": {
      "text/plain": [
       "0.87885770448746303"
      ]
     },
     "execution_count": 68,
     "metadata": {},
     "output_type": "execute_result"
    }
   ],
   "source": [
    "scores.mean()"
   ]
  },
  {
   "cell_type": "code",
   "execution_count": 72,
   "metadata": {},
   "outputs": [],
   "source": [
    "# Using Grid Search\n",
    "\n",
    "clf = RandomForestClassifier()\n",
    "\n",
    "parameters = {\"max_depth\": [10, 30, 40],\n",
    "               \"n_estimators\": [13, 30, 40],\n",
    "               \"min_samples_leaf\": [2],\n",
    "               \"max_features\": [20, 30, 40]}\n",
    "\n",
    "rf_gridcv1 = GridSearchCV(estimator=clf, param_grid=parameters, n_jobs=1, cv = 5, \n",
    "                         verbose=100)"
   ]
  },
  {
   "cell_type": "code",
   "execution_count": null,
   "metadata": {
    "collapsed": true
   },
   "outputs": [],
   "source": [
    "rfgridfit1 = rf_gridcv1.fit(x_train2, y_train2)"
   ]
  },
  {
   "cell_type": "code",
   "execution_count": 74,
   "metadata": {},
   "outputs": [
    {
     "data": {
      "text/plain": [
       "0.88148592155416206"
      ]
     },
     "execution_count": 74,
     "metadata": {},
     "output_type": "execute_result"
    }
   ],
   "source": [
    "rfgridfit1.best_score_"
   ]
  },
  {
   "cell_type": "code",
   "execution_count": 75,
   "metadata": {},
   "outputs": [
    {
     "data": {
      "text/plain": [
       "{'max_depth': 40,\n",
       " 'max_features': 40,\n",
       " 'min_samples_leaf': 2,\n",
       " 'n_estimators': 40}"
      ]
     },
     "execution_count": 75,
     "metadata": {},
     "output_type": "execute_result"
    }
   ],
   "source": [
    "rfgridfit1.best_params_"
   ]
  },
  {
   "cell_type": "code",
   "execution_count": 82,
   "metadata": {
    "collapsed": true
   },
   "outputs": [],
   "source": [
    "# Fit Random Forest\n",
    "# Try max features of None to see if we can further increase f1 score\n",
    "clf11 = RandomForestClassifier(max_depth=40, max_features=None, min_samples_leaf=2, n_estimators=13) # max features set to sqrt(164 features)\n",
    "clf11 = clf11.fit(x_train2, y_train2)"
   ]
  },
  {
   "cell_type": "code",
   "execution_count": 83,
   "metadata": {
    "collapsed": true
   },
   "outputs": [],
   "source": [
    "# How well does the random forest built with upsampled data predict outcomes for the original test sample that was not upsampled?\n",
    "y_pred10c = clf11.predict(x_test)"
   ]
  },
  {
   "cell_type": "code",
   "execution_count": 84,
   "metadata": {},
   "outputs": [
    {
     "data": {
      "text/plain": [
       "0.91233777056301557"
      ]
     },
     "execution_count": 84,
     "metadata": {},
     "output_type": "execute_result"
    }
   ],
   "source": [
    "f1_score(y_test, y_pred10c, average='weighted')"
   ]
  },
  {
   "cell_type": "code",
   "execution_count": 85,
   "metadata": {},
   "outputs": [
    {
     "name": "stdout",
     "output_type": "stream",
     "text": [
      "Normalized confusion matrix\n",
      "[[ 0.91929728  0.04309635  0.03760637]\n",
      " [ 0.00303337  0.99494439  0.00202224]\n",
      " [ 0.09235038  0.02596116  0.88168847]]\n"
     ]
    },
    {
     "data": {
      "image/png": "[encoded data removed]",
      "text/plain": [
       "<matplotlib.figure.Figure at 0x175f2a71ef0>"
      ]
     },
     "metadata": {},
     "output_type": "display_data"
    }
   ],
   "source": [
    "plt.figure()\n",
    "plot_confusion_matrix(confusion_matrix(y_test, y_pred10c), \n",
    "                      classes=['functional', 'functional needs repair', 'non functional'],\n",
    "                      normalize=True,\n",
    "                      title = 'Confusion Matrix')"
   ]
  }
 ],
 "metadata": {
  "kernelspec": {
   "display_name": "Python 3",
   "language": "python",
   "name": "python3"
  },
  "language_info": {
   "codemirror_mode": {
    "name": "ipython",
    "version": 3
   },
   "file_extension": ".py",
   "mimetype": "text/x-python",
   "name": "python",
   "nbconvert_exporter": "python",
   "pygments_lexer": "ipython3",
   "version": "3.6.3"
  }
 },
 "nbformat": 4,
 "nbformat_minor": 2
}
